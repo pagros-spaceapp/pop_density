{
 "cells": [
  {
   "cell_type": "code",
   "execution_count": 2,
   "metadata": {},
   "outputs": [
    {
     "name": "stdout",
     "output_type": "stream",
     "text": [
      "Collecting package metadata (current_repodata.json): ...working... done\n",
      "Solving environment: ...working... done\n",
      "\n",
      "# All requested packages already installed.\n",
      "\n",
      "\n",
      "Note: you may need to restart the kernel to use updated packages.\n"
     ]
    }
   ],
   "source": [
    "conda update -n base -c defaults conda"
   ]
  },
  {
   "cell_type": "code",
   "execution_count": 1,
   "metadata": {},
   "outputs": [
    {
     "name": "stdout",
     "output_type": "stream",
     "text": [
      "Collecting package metadata (current_repodata.json): ...working... done\n",
      "Solving environment: ...working... done\n",
      "\n",
      "# All requested packages already installed.\n",
      "\n",
      "\n",
      "Note: you may need to restart the kernel to use updated packages.\n"
     ]
    }
   ],
   "source": [
    "conda install -c conda-forge gdal"
   ]
  },
  {
   "cell_type": "code",
   "execution_count": 2,
   "metadata": {},
   "outputs": [],
   "source": [
    "import gdal, os"
   ]
  },
  {
   "cell_type": "code",
   "execution_count": 48,
   "metadata": {},
   "outputs": [
    {
     "name": "stdout",
     "output_type": "stream",
     "text": [
      "['VNP46A1.A2020137.h02v02.001.2020138072053.h5']\n"
     ]
    }
   ],
   "source": [
    "## List input raster files\n",
    "os.chdir(r'C:\\Users\\Rohan Dev\\Desktop\\Work\\Competitions\\NASA Space Apps\\file')\n",
    "rasterFiles = os.listdir(os.getcwd())\n",
    "print(rasterFiles)"
   ]
  },
  {
   "cell_type": "code",
   "execution_count": 49,
   "metadata": {},
   "outputs": [
    {
     "name": "stdout",
     "output_type": "stream",
     "text": [
      "VNP46A1.A2020137.h02v02.001.2020138072053\n"
     ]
    }
   ],
   "source": [
    "#Get File Name Prefix\n",
    "rasterFilePre = rasterFiles[0][:-3]\n",
    "print(rasterFilePre)"
   ]
  },
  {
   "cell_type": "code",
   "execution_count": 50,
   "metadata": {},
   "outputs": [],
   "source": [
    "fileExtension = \"_BBOX.tif\"\n",
    "\n",
    "## Open HDF file\n",
    "hdflayer = gdal.Open(rasterFiles[0], gdal.GA_ReadOnly)"
   ]
  },
  {
   "cell_type": "code",
   "execution_count": 123,
   "metadata": {
    "scrolled": true
   },
   "outputs": [
    {
     "name": "stdout",
     "output_type": "stream",
     "text": [
      "HDF5:\"VNP46A1.A2020137.h02v02.001.2020138072053.h5\"://HDFEOS/GRIDS/VNP_Grid_DNB/Data_Fields/BrightnessTemperature_M12\n",
      "\n",
      "HDF5:\"VNP46A1.A2020137.h02v02.001.2020138072053.h5\"://HDFEOS/GRIDS/VNP_Grid_DNB/Data_Fields/BrightnessTemperature_M13\n",
      "\n",
      "HDF5:\"VNP46A1.A2020137.h02v02.001.2020138072053.h5\"://HDFEOS/GRIDS/VNP_Grid_DNB/Data_Fields/BrightnessTemperature_M15\n",
      "\n",
      "HDF5:\"VNP46A1.A2020137.h02v02.001.2020138072053.h5\"://HDFEOS/GRIDS/VNP_Grid_DNB/Data_Fields/BrightnessTemperature_M16\n",
      "\n"
     ]
    }
   ],
   "source": [
    "# print(hdflayer.GetSubDatasets())\n",
    "# subhdflayer = hdflayer.GetSubDatasets()[0][0]\n",
    "\n",
    "rlayer12 = hdflayer.GetSubDatasets()[0][0]\n",
    "rlayer13 = hdflayer.GetSubDatasets()[1][0]\n",
    "rlayer15 = hdflayer.GetSubDatasets()[2][0]\n",
    "rlayer16 = hdflayer.GetSubDatasets()[3][0]\n",
    "\n",
    "for i in range(4):\n",
    "    print(hdflayer.GetSubDatasets()[i][0])\n",
    "    print()"
   ]
  },
  {
   "cell_type": "code",
   "execution_count": 52,
   "metadata": {},
   "outputs": [],
   "source": [
    "import numpy as np\n",
    "import h5py\n",
    "hf = h5py.File(r'C:\\Users\\Rohan Dev\\Desktop\\Work\\Competitions\\NASA Space Apps\\file\\VNP46A1.A2020137.h02v02.001.2020138072053.h5', 'r')"
   ]
  },
  {
   "cell_type": "code",
   "execution_count": 53,
   "metadata": {},
   "outputs": [
    {
     "data": {
      "text/plain": [
       "<KeysViewHDF5 ['HDFEOS', 'HDFEOS INFORMATION']>"
      ]
     },
     "execution_count": 53,
     "metadata": {},
     "output_type": "execute_result"
    }
   ],
   "source": [
    "hf.keys()"
   ]
  },
  {
   "cell_type": "code",
   "execution_count": 54,
   "metadata": {},
   "outputs": [
    {
     "data": {
      "text/plain": [
       "<KeysViewHDF5 ['ADDITIONAL', 'GRIDS']>"
      ]
     },
     "execution_count": 54,
     "metadata": {},
     "output_type": "execute_result"
    }
   ],
   "source": [
    "hf['HDFEOS'].keys()"
   ]
  },
  {
   "cell_type": "code",
   "execution_count": 55,
   "metadata": {},
   "outputs": [
    {
     "data": {
      "text/plain": [
       "<HDF5 dataset \"BrightnessTemperature_M12\": shape (2400, 2400), type \"<u2\">"
      ]
     },
     "execution_count": 55,
     "metadata": {},
     "output_type": "execute_result"
    }
   ],
   "source": [
    "hf['HDFEOS']['GRIDS']['VNP_Grid_DNB']['Data Fields']['BrightnessTemperature_M12']"
   ]
  },
  {
   "cell_type": "code",
   "execution_count": 117,
   "metadata": {},
   "outputs": [
    {
     "data": {
      "text/plain": [
       "<HDF5 dataset \"BrightnessTemperature_M12\": shape (2400, 2400), type \"<u2\">"
      ]
     },
     "execution_count": 117,
     "metadata": {},
     "output_type": "execute_result"
    }
   ],
   "source": [
    "BrightnessTemperature12_FILE = hf['HDFEOS']['GRIDS']['VNP_Grid_DNB']['Data Fields']['BrightnessTemperature_M12']\n",
    "BrightnessTemperature12_FILE[:]"
   ]
  },
  {
   "cell_type": "code",
   "execution_count": 61,
   "metadata": {},
   "outputs": [
    {
     "data": {
      "text/plain": [
       "array([[65535, 65535, 65535, ..., 65535, 65535, 65535],\n",
       "       [65535, 65535, 65535, ..., 65535, 65535, 65535],\n",
       "       [65535, 65535, 65535, ..., 65535, 65535, 65535],\n",
       "       ...,\n",
       "       [14867, 14867, 14867, ..., 25601, 25601, 25670],\n",
       "       [14819, 14819, 14819, ..., 25745, 25745, 25638],\n",
       "       [14819, 14819, 14819, ..., 25745, 25745, 25638]], dtype=uint16)"
      ]
     },
     "execution_count": 61,
     "metadata": {},
     "output_type": "execute_result"
    }
   ],
   "source": [
    "BrightnessTemperature13_FILE = hf['HDFEOS']['GRIDS']['VNP_Grid_DNB']['Data Fields']['BrightnessTemperature_M13']\n",
    "BrightnessTemperature13_FILE[:]"
   ]
  },
  {
   "cell_type": "code",
   "execution_count": 73,
   "metadata": {},
   "outputs": [
    {
     "data": {
      "text/plain": [
       "array([[65535, 65535, 65535, ..., 65535, 65535, 65535],\n",
       "       [65535, 65535, 65535, ..., 65535, 65535, 65535],\n",
       "       [65535, 65535, 65535, ..., 65535, 65535, 65535],\n",
       "       ...,\n",
       "       [14867, 14867, 14867, ..., 25601, 25601, 25670],\n",
       "       [14819, 14819, 14819, ..., 25745, 25745, 25638],\n",
       "       [14819, 14819, 14819, ..., 25745, 25745, 25638]], dtype=uint16)"
      ]
     },
     "execution_count": 73,
     "metadata": {},
     "output_type": "execute_result"
    }
   ],
   "source": [
    "BrightnessTemperature15_FILE = hf['HDFEOS']['GRIDS']['VNP_Grid_DNB']['Data Fields']['BrightnessTemperature_M13']\n",
    "# BrightnessTemperature15_FILE.shape\n",
    "BrightnessTemperature15_FILE[:]"
   ]
  },
  {
   "cell_type": "code",
   "execution_count": 63,
   "metadata": {},
   "outputs": [
    {
     "data": {
      "text/plain": [
       "array([[65535, 65535, 65535, ..., 65535, 65535, 65535],\n",
       "       [65535, 65535, 65535, ..., 65535, 65535, 65535],\n",
       "       [65535, 65535, 65535, ..., 65535, 65535, 65535],\n",
       "       ...,\n",
       "       [14867, 14867, 14867, ..., 25601, 25601, 25670],\n",
       "       [14819, 14819, 14819, ..., 25745, 25745, 25638],\n",
       "       [14819, 14819, 14819, ..., 25745, 25745, 25638]], dtype=uint16)"
      ]
     },
     "execution_count": 63,
     "metadata": {},
     "output_type": "execute_result"
    }
   ],
   "source": [
    "BrightnessTemperature16_FILE = hf['HDFEOS']['GRIDS']['VNP_Grid_DNB']['Data Fields']['BrightnessTemperature_M13']\n",
    "BrightnessTemperature16_FILE[:]"
   ]
  },
  {
   "cell_type": "code",
   "execution_count": 64,
   "metadata": {},
   "outputs": [],
   "source": [
    "import numpy\n",
    "numpy.savetxt(\"BrightnessTemperature12_FILE.csv\", BrightnessTemperature12_FILE, delimiter=\",\")\n",
    "numpy.savetxt(\"BrightnessTemperature13_FILE.csv\", BrightnessTemperature13_FILE, delimiter=\",\")\n",
    "numpy.savetxt(\"BrightnessTemperature15_FILE.csv\", BrightnessTemperature15_FILE, delimiter=\",\")\n",
    "numpy.savetxt(\"BrightnessTemperature16_FILE.csv\", BrightnessTemperature16_FILE, delimiter=\",\")"
   ]
  },
  {
   "cell_type": "code",
   "execution_count": 134,
   "metadata": {},
   "outputs": [
    {
     "data": {
      "text/plain": [
       "'HDF5:\"VNP46A1.A2020137.h02v02.001.2020138072053.h5\"://HDFEOS/GRIDS/VNP_Grid_DNB/Data_Fields/BrightnessTemperature_M12'"
      ]
     },
     "execution_count": 134,
     "metadata": {},
     "output_type": "execute_result"
    }
   ],
   "source": [
    "#Subset the Long Name\n",
    "outputName12 = rlayer12[92:]\n",
    "outputName13 = rlayer13[92:]\n",
    "outputName15 = rlayer15[92:]\n",
    "outputName16 = rlayer16[92:]\n",
    "\n",
    "rlayer12"
   ]
  },
  {
   "cell_type": "code",
   "execution_count": 93,
   "metadata": {},
   "outputs": [
    {
     "name": "stdout",
     "output_type": "stream",
     "text": [
      "BrightnessTemperature_M12VNP46A1.A2020137.h02v02.001.2020138072053_BBOX.tif\n"
     ]
    }
   ],
   "source": [
    "outputNameNoSpace12 = outputName12.strip().replace(\" \",\"_\").replace(\"/\",\"_\")\n",
    "outputNameFinal12 = outputNameNoSpace12 + rasterFilePre + fileExtension\n",
    "print(outputNameFinal12)"
   ]
  },
  {
   "cell_type": "code",
   "execution_count": 94,
   "metadata": {},
   "outputs": [
    {
     "data": {
      "text/plain": [
       "\"C:\\\\Users\\\\Rohan Dev\\\\Desktop\\\\Work\\\\Competitions\\\\NASA Space Apps\\\\hdf_images_output\\\\'BrightnessTemperature_M12VNP46A1.A2020137.h02v02.001.2020138072053_BBOX.tif\""
      ]
     },
     "execution_count": 94,
     "metadata": {},
     "output_type": "execute_result"
    }
   ],
   "source": [
    "outputFolder = r'C:\\Users\\Rohan Dev\\Desktop\\Work\\Competitions\\NASA Space Apps\\hdf_images_output\\''\n",
    "outputRaster = outputFolder + outputNameFinal12\n",
    "outputRaster"
   ]
  },
  {
   "cell_type": "code",
   "execution_count": 95,
   "metadata": {},
   "outputs": [],
   "source": [
    "#collect bounding box coordinates\n",
    "#-a_ullr <ulx> <uly> <lrx> <lry>\n",
    "rlayer = gdal.Open(hdflayer.GetSubDatasets()[i][0], gdal.GA_ReadOnly)\n",
    "WestBoundCoord = rlayer.GetMetadata_Dict()[\"HDFEOS_GRIDS_VNP_Grid_DNB_WestBoundingCoord\"]\n",
    "EastBoundCoord = rlayer.GetMetadata_Dict()[\"HDFEOS_GRIDS_VNP_Grid_DNB_EastBoundingCoord\"]\n",
    "NorthBoundCoord = rlayer.GetMetadata_Dict()[\"HDFEOS_GRIDS_VNP_Grid_DNB_NorthBoundingCoord\"]\n",
    "SouthBoundCoord = rlayer.GetMetadata_Dict()[\"HDFEOS_GRIDS_VNP_Grid_DNB_SouthBoundingCoord\"]\n",
    "# WestBoundCoord\n",
    "# EastBoundCoord\n",
    "# NorthBoundCoord\n",
    "# SouthBoundCoord"
   ]
  },
  {
   "cell_type": "code",
   "execution_count": 107,
   "metadata": {},
   "outputs": [
    {
     "ename": "AttributeError",
     "evalue": "'NoneType' object has no attribute 'ReadAsArray'",
     "output_type": "error",
     "traceback": [
      "\u001b[1;31m---------------------------------------------------------------------------\u001b[0m",
      "\u001b[1;31mAttributeError\u001b[0m                            Traceback (most recent call last)",
      "\u001b[1;32m<ipython-input-107-b67ae159ce6d>\u001b[0m in \u001b[0;36m<module>\u001b[1;34m\u001b[0m\n\u001b[0;32m      6\u001b[0m \u001b[0mout_ds\u001b[0m \u001b[1;33m=\u001b[0m \u001b[0mgdal\u001b[0m\u001b[1;33m.\u001b[0m\u001b[0mTranslate\u001b[0m\u001b[1;33m(\u001b[0m\u001b[0moutputRaster\u001b[0m\u001b[1;33m,\u001b[0m\u001b[0mrlayer\u001b[0m\u001b[1;33m,\u001b[0m \u001b[0moptions\u001b[0m\u001b[1;33m=\u001b[0m\u001b[0mtranslateoptions\u001b[0m\u001b[1;33m)\u001b[0m\u001b[1;33m\u001b[0m\u001b[1;33m\u001b[0m\u001b[0m\n\u001b[0;32m      7\u001b[0m \u001b[1;31m# gdal.Warp(outputRaster,rlayer)\u001b[0m\u001b[1;33m\u001b[0m\u001b[1;33m\u001b[0m\u001b[1;33m\u001b[0m\u001b[0m\n\u001b[1;32m----> 8\u001b[1;33m \u001b[0mout_arr\u001b[0m \u001b[1;33m=\u001b[0m \u001b[0mout_ds\u001b[0m\u001b[1;33m.\u001b[0m\u001b[0mReadAsArray\u001b[0m\u001b[1;33m(\u001b[0m\u001b[1;33m)\u001b[0m\u001b[1;33m\u001b[0m\u001b[1;33m\u001b[0m\u001b[0m\n\u001b[0m",
      "\u001b[1;31mAttributeError\u001b[0m: 'NoneType' object has no attribute 'ReadAsArray'"
     ]
    }
   ],
   "source": [
    "EPSG = \"-a_srs EPSG:4326\" #WGS84\n",
    "\n",
    "translateOptionText = EPSG+\" -a_ullr \" + WestBoundCoord + \" \" + NorthBoundCoord + \" \" + EastBoundCoord + \" \" + SouthBoundCoord\n",
    "\n",
    "translateoptions = gdal.TranslateOptions(gdal.ParseCommandLine(translateOptionText))\n",
    "out_ds = gdal.Translate(outputRaster,rlayer, options=translateoptions)\n",
    "# gdal.Warp(outputRaster,rlayer)\n",
    "out_arr = out_ds.ReadAsArray()"
   ]
  },
  {
   "cell_type": "code",
   "execution_count": 110,
   "metadata": {},
   "outputs": [
    {
     "name": "stdout",
     "output_type": "stream",
     "text": [
      "\n",
      "Note: you may need to restart the kernel to use updated packages.\n"
     ]
    }
   ],
   "source": [
    "conda config --add channels conda-forge"
   ]
  },
  {
   "cell_type": "code",
   "execution_count": 112,
   "metadata": {},
   "outputs": [
    {
     "name": "stdout",
     "output_type": "stream",
     "text": [
      "Collecting package metadata (current_repodata.json): ...working... done\n",
      "Solving environment: ...working... done\n",
      "\n",
      "# All requested packages already installed.\n",
      "\n",
      "\n",
      "Note: you may need to restart the kernel to use updated packages.\n"
     ]
    }
   ],
   "source": [
    "conda install rasterio"
   ]
  },
  {
   "cell_type": "code",
   "execution_count": 124,
   "metadata": {},
   "outputs": [],
   "source": [
    "import rasterio\n",
    "from rasterio.transform import from_origin\n",
    "from matplotlib import pyplot"
   ]
  },
  {
   "cell_type": "code",
   "execution_count": 132,
   "metadata": {},
   "outputs": [
    {
     "data": {
      "text/plain": [
       "<matplotlib.image.AxesImage at 0x1cea8596b88>"
      ]
     },
     "execution_count": 132,
     "metadata": {},
     "output_type": "execute_result"
    },
    {
     "data": {
      "image/png": "[encoded data removed]",
      "text/plain": [
       "<Figure size 432x288 with 1 Axes>"
      ]
     },
     "metadata": {
      "needs_background": "light"
     },
     "output_type": "display_data"
    }
   ],
   "source": [
    "array=BrightnessTemperature12_FILE[:]\n",
    "pyplot.imshow(array, cmap='pink')"
   ]
  },
  {
   "cell_type": "code",
   "execution_count": 127,
   "metadata": {},
   "outputs": [],
   "source": [
    "pyplot.show()  "
   ]
  },
  {
   "cell_type": "code",
   "execution_count": null,
   "metadata": {},
   "outputs": [],
   "source": []
  }
 ],
 "metadata": {
  "kernelspec": {
   "display_name": "Python 3",
   "language": "python",
   "name": "python3"
  },
  "language_info": {
   "codemirror_mode": {
    "name": "ipython",
    "version": 3
   },
   "file_extension": ".py",
   "mimetype": "text/x-python",
   "name": "python",
   "nbconvert_exporter": "python",
   "pygments_lexer": "ipython3",
   "version": "3.7.4"
  }
 },
 "nbformat": 4,
 "nbformat_minor": 2
}
